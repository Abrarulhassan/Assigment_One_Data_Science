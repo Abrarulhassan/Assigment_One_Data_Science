{
 "cells": [
  {
   "cell_type": "code",
   "execution_count": 6,
   "id": "7dd6420a",
   "metadata": {},
   "outputs": [
    {
     "name": "stdout",
     "output_type": "stream",
     "text": [
      "Twinkle,Twinkle,little,star,\n",
      "\tHow i wonder waht are you!\n",
      "\t\t up above the world so high,\n",
      "\t\t Like a diamond in the sky.\n",
      "Twinkle,Twinkle,little,star,\n",
      "\tHow i wonder waht are you!\n"
     ]
    }
   ],
   "source": [
    "#Question-1\n",
    "#Abrar ul Hassan \n",
    "print(\"Twinkle,Twinkle,little,star,\")\n",
    "print(\"\\tHow i wonder waht are you!\")\n",
    "print(\"\\t\\t up above the world so high,\")\n",
    "print(\"\\t\\t Like a diamond in the sky.\")\n",
    "print(\"Twinkle,Twinkle,little,star,\")\n",
    "print(\"\\tHow i wonder waht are you!\")"
   ]
  },
  {
   "cell_type": "code",
   "execution_count": 10,
   "id": "cc440477",
   "metadata": {},
   "outputs": [
    {
     "name": "stdout",
     "output_type": "stream",
     "text": [
      "Version of Python\n",
      "3.9.7 (default, Sep 16 2021, 16:59:28) [MSC v.1916 64 bit (AMD64)]\n",
      "Version information\n",
      "sys.version_info(major=3, minor=9, micro=7, releaselevel='final', serial=0)\n"
     ]
    }
   ],
   "source": [
    "#Question-2\n",
    "#Abrar ul Hassan \n",
    "import sys\n",
    "print(\"Version of Python\")\n",
    "print(sys.version)\n",
    "print(\"Version information\")\n",
    "print(sys.version_info)"
   ]
  },
  {
   "cell_type": "code",
   "execution_count": 13,
   "id": "d06f2f3f",
   "metadata": {},
   "outputs": [
    {
     "name": "stdout",
     "output_type": "stream",
     "text": [
      "Current Time :  Fri Dec 31 21:56:38 2021\n"
     ]
    }
   ],
   "source": [
    "#Question-3\n",
    "#Abrar ul Hassan \n",
    "import time\n",
    "currenttime=time.asctime(time.localtime(time.time()))\n",
    "print(\"Current Time : \",str(currenttime))"
   ]
  },
  {
   "cell_type": "code",
   "execution_count": 14,
   "id": "ac2dda0a",
   "metadata": {},
   "outputs": [
    {
     "name": "stdout",
     "output_type": "stream",
     "text": [
      "PLease Enter the Radius of Circle : 4\n",
      "Area of Circle is :  12.564\n"
     ]
    }
   ],
   "source": [
    "#Question-4\n",
    "#Abrar ul Hassan \n",
    "Radius=float(input(\"PLease Enter the Radius of Circle : \"))\n",
    "pi=3.141\n",
    "Area=pi*Radius\n",
    "print(\"Area of Circle is : \",str(Area))"
   ]
  },
  {
   "cell_type": "code",
   "execution_count": 1,
   "id": "40f84875",
   "metadata": {},
   "outputs": [
    {
     "name": "stdout",
     "output_type": "stream",
     "text": [
      "PLease Enter your First Name : Abrar\n",
      "Please Enter you last Name : hassan\n",
      "hassan Abrar\n"
     ]
    }
   ],
   "source": [
    "#Question 5\n",
    "#Abrar ul Hassan \n",
    "first_Name=input(\"PLease Enter your First Name : \")\n",
    "last_Name=input(\"Please Enter you last Name : \")\n",
    "print(last_Name+\" \"+first_Name)"
   ]
  },
  {
   "cell_type": "code",
   "execution_count": 19,
   "id": "0b2c965e",
   "metadata": {},
   "outputs": [
    {
     "name": "stdout",
     "output_type": "stream",
     "text": [
      "Please Enter the number 1 : 4\n",
      "PLease Entet the number 2 : 5\n",
      "Addition of two Number :  9\n"
     ]
    }
   ],
   "source": [
    "#Question-6 \n",
    "#Abrar ul Hassan\n",
    "num1=int(input(\"Please Enter the number 1 : \"))\n",
    "num2=int(input(\"PLease Entet the number 2 : \")) \n",
    "Addition=num1+num2\n",
    "print(\"Addition of two Number : \",str(Addition))"
   ]
  },
  {
   "cell_type": "code",
   "execution_count": null,
   "id": "226ccfdd",
   "metadata": {},
   "outputs": [],
   "source": []
  }
 ],
 "metadata": {
  "kernelspec": {
   "display_name": "Python 3 (ipykernel)",
   "language": "python",
   "name": "python3"
  },
  "language_info": {
   "codemirror_mode": {
    "name": "ipython",
    "version": 3
   },
   "file_extension": ".py",
   "mimetype": "text/x-python",
   "name": "python",
   "nbconvert_exporter": "python",
   "pygments_lexer": "ipython3",
   "version": "3.9.7"
  }
 },
 "nbformat": 4,
 "nbformat_minor": 5
}
